{
 "cells": [
  {
   "cell_type": "markdown",
   "metadata": {
    "application/vnd.databricks.v1+cell": {
     "cellMetadata": {},
     "inputWidgets": {},
     "nuid": "99d7fba9-7dcf-4ecd-8227-4da664c40168",
     "showTitle": false,
     "tableResultSettingsMap": {},
     "title": ""
    }
   },
   "source": [
    "#LLM High level Flow"
   ]
  },
  {
   "cell_type": "markdown",
   "metadata": {
    "application/vnd.databricks.v1+cell": {
     "cellMetadata": {},
     "inputWidgets": {},
     "nuid": "a221bbde-4d13-4da4-ace0-90677c06af9e",
     "showTitle": false,
     "tableResultSettingsMap": {},
     "title": ""
    }
   },
   "source": [
    "![llm_flow](/Workspace/Users/somanathsankaran@gmail.com/youtube_somanath/llm-101/llm_training.png)"
   ]
  },
  {
   "cell_type": "markdown",
   "metadata": {
    "application/vnd.databricks.v1+cell": {
     "cellMetadata": {},
     "inputWidgets": {},
     "nuid": "cabda412-78ba-4cf9-9e8e-bfc19cda2590",
     "showTitle": false,
     "tableResultSettingsMap": {},
     "title": ""
    }
   },
   "source": [
    "#Analyzing Sample Data"
   ]
  },
  {
   "cell_type": "code",
   "execution_count": 0,
   "metadata": {
    "application/vnd.databricks.v1+cell": {
     "cellMetadata": {
      "byteLimit": 2048000,
      "implicitDf": true,
      "rowLimit": 10000
     },
     "inputWidgets": {},
     "nuid": "d2db11c9-bd99-458d-ad94-6a1a780d4b9a",
     "showTitle": false,
     "tableResultSettingsMap": {
      "0": {
       "dataGridStateBlob": "{\"version\":1,\"tableState\":{\"columnPinning\":{\"left\":[\"#row_number#\"],\"right\":[]},\"columnSizing\":{},\"columnVisibility\":{}},\"settings\":{\"columns\":{\"url\":{\"format\":{\"preset\":\"string-preset-url\"}}}},\"syncTimestamp\":1759247148516}",
       "filterBlob": null,
       "queryPlanFiltersBlob": null,
       "tableResultIndex": 0
      }
     },
     "title": ""
    }
   },
   "outputs": [],
   "source": [
    "%sql\n",
    "select ASIN,url,count(*) from bright_data_amazon_best_seller_products_reviews_products_dataset.datasets.amazon_reviews\n",
    "group by all"
   ]
  },
  {
   "cell_type": "code",
   "execution_count": 0,
   "metadata": {
    "application/vnd.databricks.v1+cell": {
     "cellMetadata": {
      "byteLimit": 2048000,
      "implicitDf": true,
      "rowLimit": 10000
     },
     "inputWidgets": {},
     "nuid": "3308820c-a35b-4e9c-b6c5-8bc0ef2f0fc4",
     "showTitle": false,
     "tableResultSettingsMap": {
      "0": {
       "dataGridStateBlob": "{\"version\":1,\"tableState\":{\"columnPinning\":{\"left\":[\"#row_number#\"],\"right\":[]},\"columnSizing\":{},\"columnVisibility\":{}},\"settings\":{\"columns\":{\"URL\":{\"format\":{\"preset\":\"string-preset-url\"}},\"AUTHOR_LINK\":{\"format\":{\"preset\":\"string-preset-url\"}}}},\"syncTimestamp\":1759247338314}",
       "filterBlob": null,
       "queryPlanFiltersBlob": null,
       "tableResultIndex": 0
      }
     },
     "title": ""
    }
   },
   "outputs": [],
   "source": [
    "%sql\n",
    "select * from bright_data_amazon_best_seller_products_reviews_products_dataset.datasets.amazon_reviews\n",
    "where ASIN='B091SQRKVG'"
   ]
  },
  {
   "cell_type": "markdown",
   "metadata": {
    "application/vnd.databricks.v1+cell": {
     "cellMetadata": {},
     "inputWidgets": {},
     "nuid": "73eccc24-2845-4d69-a178-532e609e0682",
     "showTitle": false,
     "tableResultSettingsMap": {},
     "title": ""
    }
   },
   "source": [
    "#Analyzing Sentiment"
   ]
  },
  {
   "cell_type": "code",
   "execution_count": 0,
   "metadata": {
    "application/vnd.databricks.v1+cell": {
     "cellMetadata": {
      "byteLimit": 2048000,
      "implicitDf": true,
      "rowLimit": 10000
     },
     "inputWidgets": {},
     "nuid": "af1458f6-d712-4520-a6a7-bbbaf9935e0d",
     "showTitle": false,
     "tableResultSettingsMap": {
      "0": {
       "dataGridStateBlob": "{\"version\":1,\"tableState\":{\"columnPinning\":{\"left\":[\"#row_number#\"],\"right\":[]},\"columnSizing\":{},\"columnVisibility\":{}},\"settings\":{\"columns\":{}},\"syncTimestamp\":1759551399604}",
       "filterBlob": "{\"version\":1,\"filterGroups\":[],\"syncTimestamp\":1759551481160}",
       "queryPlanFiltersBlob": "[]",
       "tableResultIndex": 0
      }
     },
     "title": ""
    }
   },
   "outputs": [],
   "source": [
    "%sql\n",
    "select REVIEW_TEXT,ai_analyze_sentiment(REVIEW_TEXT) as sentiment from bright_data_amazon_best_seller_products_reviews_products_dataset.datasets.amazon_reviews\n",
    "where ASIN='B091SQRKVG'"
   ]
  },
  {
   "cell_type": "markdown",
   "metadata": {
    "application/vnd.databricks.v1+cell": {
     "cellMetadata": {},
     "inputWidgets": {},
     "nuid": "cecfb5e5-321b-4680-975d-4a181d677782",
     "showTitle": false,
     "tableResultSettingsMap": {},
     "title": ""
    }
   },
   "source": [
    "#AI Classify"
   ]
  },
  {
   "cell_type": "code",
   "execution_count": 0,
   "metadata": {
    "application/vnd.databricks.v1+cell": {
     "cellMetadata": {
      "byteLimit": 2048000,
      "implicitDf": true,
      "rowLimit": 10000
     },
     "inputWidgets": {},
     "nuid": "b7948bbc-86d9-4a8a-9a0b-cc8ec4cc2e01",
     "showTitle": false,
     "tableResultSettingsMap": {
      "0": {
       "dataGridStateBlob": "{\"version\":1,\"tableState\":{\"columnPinning\":{\"left\":[\"#row_number#\"],\"right\":[]},\"columnSizing\":{},\"columnVisibility\":{}},\"settings\":{\"columns\":{}},\"syncTimestamp\":1759551543569}",
       "filterBlob": null,
       "queryPlanFiltersBlob": null,
       "tableResultIndex": 0
      }
     },
     "title": ""
    }
   },
   "outputs": [],
   "source": [
    "%sql\n",
    "select ai_classify(\"food is ample\",array(\"quality\",\"quantity\"))"
   ]
  },
  {
   "cell_type": "code",
   "execution_count": 0,
   "metadata": {
    "application/vnd.databricks.v1+cell": {
     "cellMetadata": {
      "byteLimit": 2048000,
      "implicitDf": true,
      "rowLimit": 10000
     },
     "inputWidgets": {},
     "nuid": "b8c2f732-153e-4765-9a2a-73b55c2a8ea8",
     "showTitle": false,
     "tableResultSettingsMap": {},
     "title": ""
    }
   },
   "outputs": [],
   "source": [
    "%sql\n",
    "select REVIEW_TEXT,\n",
    "  ai_classify(\n",
    "    REVIEW_TEXT,\n",
    "    array(\n",
    "      \"Product Quality (durability, build, performance)\",\n",
    "      \"Design & Aesthetics (looks, style, size, material)\",\n",
    "      \"Ease of Use (controls, learning curve, user-friendliness)\",\n",
    "      \"Functionality (toast evenness, slot size, special features like bagel mode)\",\n",
    "      \"Reliability / Issues (breakdowns, defects, longevity concerns)\",\n",
    "      \"Customer Service (experience with support, warranty, replacements)\",\n",
    "      \"Value for Money (price vs. performance perception)\")\n",
    "  ) as curated_classification\n",
    "from bright_data_amazon_best_seller_products_reviews_products_dataset.datasets.amazon_reviews\n",
    "where ASIN='B091SQRKVG'"
   ]
  },
  {
   "cell_type": "code",
   "execution_count": 0,
   "metadata": {
    "application/vnd.databricks.v1+cell": {
     "cellMetadata": {
      "byteLimit": 2048000,
      "implicitDf": true,
      "rowLimit": 10000
     },
     "inputWidgets": {},
     "nuid": "27302a1b-704b-4f11-982d-e3cb70e36033",
     "showTitle": false,
     "tableResultSettingsMap": {},
     "title": ""
    }
   },
   "outputs": [],
   "source": [
    "%sql\n",
    "select REVIEW_TEXT,\n",
    "  ai_classify(\n",
    "    REVIEW_TEXT,\n",
    "    array(\n",
    "      \"Product Quality\",\n",
    "      \"Design & Aesthetics\",\n",
    "      \"Ease of Use \",\n",
    "      \"Functionality \",\n",
    "      \"Reliability / Issues \",\n",
    "      \"Customer Service\",\n",
    "      \"Value for Money\")\n",
    "  ) as curated_classification\n",
    "from bright_data_amazon_best_seller_products_reviews_products_dataset.datasets.amazon_reviews\n",
    "where ASIN = 'B091SQRKVG'"
   ]
  },
  {
   "cell_type": "markdown",
   "metadata": {
    "application/vnd.databricks.v1+cell": {
     "cellMetadata": {
      "byteLimit": 2048000,
      "implicitDf": true,
      "rowLimit": 10000
     },
     "inputWidgets": {},
     "nuid": "b7014edd-6657-4d76-a3ce-6f7b80810f38",
     "showTitle": false,
     "tableResultSettingsMap": {},
     "title": ""
    }
   },
   "source": [
    "#AI Extract"
   ]
  },
  {
   "cell_type": "code",
   "execution_count": 0,
   "metadata": {
    "application/vnd.databricks.v1+cell": {
     "cellMetadata": {
      "byteLimit": 2048000,
      "implicitDf": true,
      "rowLimit": 10000
     },
     "inputWidgets": {},
     "nuid": "867537f0-e4e8-4aae-890c-38b8bea93bc5",
     "showTitle": false,
     "tableResultSettingsMap": {},
     "title": ""
    }
   },
   "outputs": [],
   "source": [
    "%sql\n",
    "SELECT *,ai_extract(content\n",
    "    ,\n",
    "    array('feature_name', 'plan_requirement', 'portals', 'powered_by', 'authentication_method', 'default_access', 'navigation_path', 'config_path')\n",
    "  ) as extracted_data from databricks_databricks_documentation_dataset.v01.docs\n"
   ]
  },
  {
   "cell_type": "markdown",
   "metadata": {
    "application/vnd.databricks.v1+cell": {
     "cellMetadata": {},
     "inputWidgets": {},
     "nuid": "075f172b-5d3c-4b52-9eff-abc2d34e1aff",
     "showTitle": false,
     "tableResultSettingsMap": {},
     "title": ""
    }
   },
   "source": [
    "#AI Summarize"
   ]
  },
  {
   "cell_type": "code",
   "execution_count": 0,
   "metadata": {
    "application/vnd.databricks.v1+cell": {
     "cellMetadata": {
      "byteLimit": 2048000,
      "implicitDf": true,
      "rowLimit": 10000
     },
     "inputWidgets": {},
     "nuid": "2c218a11-a795-4fb0-84ba-ddbf5ee23424",
     "showTitle": false,
     "tableResultSettingsMap": {},
     "title": ""
    }
   },
   "outputs": [],
   "source": [
    "%sql\n",
    "SELECT content,ai_summarize(content\n",
    "    ,25\n",
    "  ) as summary,ai_summarize(content\n",
    "    ,50\n",
    "  ) as extended_summary  from databricks_databricks_documentation_dataset.v01.docs limit 100\n"
   ]
  },
  {
   "cell_type": "markdown",
   "metadata": {
    "application/vnd.databricks.v1+cell": {
     "cellMetadata": {},
     "inputWidgets": {},
     "nuid": "f268403d-d9a6-4c7d-8a74-ac492658e322",
     "showTitle": false,
     "tableResultSettingsMap": {},
     "title": ""
    }
   },
   "source": [
    "#AI Translate"
   ]
  },
  {
   "cell_type": "code",
   "execution_count": 0,
   "metadata": {
    "application/vnd.databricks.v1+cell": {
     "cellMetadata": {
      "byteLimit": 2048000,
      "implicitDf": true,
      "rowLimit": 10000
     },
     "inputWidgets": {},
     "nuid": "d63914bc-ea6c-4b71-8203-542f5185f331",
     "showTitle": false,
     "tableResultSettingsMap": {
      "0": {
       "dataGridStateBlob": "{\"version\":1,\"tableState\":{\"columnPinning\":{\"left\":[\"#row_number#\"],\"right\":[]},\"columnSizing\":{},\"columnVisibility\":{}},\"settings\":{\"columns\":{}},\"syncTimestamp\":1759310730715}",
       "filterBlob": null,
       "queryPlanFiltersBlob": null,
       "tableResultIndex": 0
      }
     },
     "title": ""
    }
   },
   "outputs": [],
   "source": [
    "%sql\n",
    "SELECT REVIEW_TEXT,ai_translate(REVIEW_TEXT,\"hindi\"  ) as review_in_hindi ,ai_translate(REVIEW_TEXT,\"Tamil\"  ) as review_in_tamil from bright_data_amazon_best_seller_products_reviews_products_dataset.datasets.amazon_reviews limit 100\n"
   ]
  },
  {
   "cell_type": "markdown",
   "metadata": {
    "application/vnd.databricks.v1+cell": {
     "cellMetadata": {},
     "inputWidgets": {},
     "nuid": "4902c70f-4d89-499d-9334-f49109b238f1",
     "showTitle": false,
     "tableResultSettingsMap": {},
     "title": ""
    }
   },
   "source": [
    "#ai_query"
   ]
  },
  {
   "cell_type": "code",
   "execution_count": 0,
   "metadata": {
    "application/vnd.databricks.v1+cell": {
     "cellMetadata": {
      "byteLimit": 2048000,
      "implicitDf": true,
      "rowLimit": 10000
     },
     "inputWidgets": {},
     "nuid": "516e612c-e064-486c-8bf5-6621d3a975cf",
     "showTitle": false,
     "tableResultSettingsMap": {
      "0": {
       "dataGridStateBlob": "{\"version\":1,\"tableState\":{\"columnPinning\":{\"left\":[\"#row_number#\"],\"right\":[]},\"columnSizing\":{\"REVIEW_TEXT\":387},\"columnVisibility\":{}},\"settings\":{\"columns\":{}},\"syncTimestamp\":1759552062783}",
       "filterBlob": null,
       "queryPlanFiltersBlob": null,
       "tableResultIndex": 0
      }
     },
     "title": ""
    }
   },
   "outputs": [],
   "source": [
    "%sql\n",
    "-- select ai_query(\"databricks-gpt-oss-120b\",\"\");\n",
    "\n",
    "select REVIEW_TEXT,\n",
    "  ai_query(\n",
    "    \"databricks-gpt-oss-120b\",\n",
    "    \"Given a review for a product, classify it based on the following categories:\\n\" ||\n",
    "    \"1. Product Quality (durability, build, performance)\\n\" ||\n",
    "    \"2. Design & Aesthetics (looks, style, size, material)\\n\" ||\n",
    "    \"3. Ease of Use (controls, learning curve, user-friendliness)\\n\" ||\n",
    "    \"4. Functionality (toast evenness, slot size, special features like bagel mode)\\n\" ||\n",
    "    \"5. Reliability / Issues (breakdowns, defects, longevity concerns)\\n\" ||\n",
    "    \"6. Customer Service (experience with support, warranty, replacements)\\n\" ||\n",
    "    \"7. Value for Money (price vs. performance perception)\\n\" ||\n",
    "    \"Review: \" || REVIEW_TEXT\n",
    "  ) as curated_classification\n",
    "from bright_data_amazon_best_seller_products_reviews_products_dataset.datasets.amazon_reviews\n",
    "where ASIN='B091SQRKVG'"
   ]
  },
  {
   "cell_type": "code",
   "execution_count": 0,
   "metadata": {
    "application/vnd.databricks.v1+cell": {
     "cellMetadata": {
      "byteLimit": 2048000,
      "implicitDf": true,
      "rowLimit": 10000
     },
     "inputWidgets": {},
     "nuid": "36f7c364-e46d-4c51-814e-dd2a519f4590",
     "showTitle": false,
     "tableResultSettingsMap": {},
     "title": ""
    }
   },
   "outputs": [],
   "source": [
    "%sql\n",
    "-- select ai_query(\"databricks-gpt-oss-120b\",\"\");\n",
    "\n",
    "select REVIEW_TEXT,\n",
    "  ai_query(\n",
    "    endpoint => \"databricks-gpt-oss-120b\",\n",
    "    request => \"Given a review for a product, classify it based on the following categories and provide reason :\\n\" ||\n",
    "    \"1. Product Quality (durability, build, performance)\\n\" ||\n",
    "    \"2. Design & Aesthetics (looks, style, size, material)\\n\" ||\n",
    "    \"3. Ease of Use (controls, learning curve, user-friendliness)\\n\" ||\n",
    "    \"4. Functionality (toast evenness, slot size, special features like bagel mode)\\n\" ||\n",
    "    \"5. Reliability / Issues (breakdowns, defects, longevity concerns)\\n\" ||\n",
    "    \"6. Customer Service (experience with support, warranty, replacements)\\n\" ||\n",
    "    \"7. Value for Money (price vs. performance perception)\\n\" ||\n",
    "    \"Review: \" || REVIEW_TEXT,\n",
    "    modelParameters => named_struct('max_tokens', 100, 'temperature', 0.7),\n",
    "    responseFormat => \"struct<review_category:struct<categories:string,reason:string>>\"\n",
    "  ) as curated_classification\n",
    "from bright_data_amazon_best_seller_products_reviews_products_dataset.datasets.amazon_reviews\n",
    "where ASIN='B091SQRKVG'"
   ]
  },
  {
   "cell_type": "code",
   "execution_count": 0,
   "metadata": {
    "application/vnd.databricks.v1+cell": {
     "cellMetadata": {
      "byteLimit": 2048000,
      "implicitDf": true,
      "rowLimit": 10000
     },
     "inputWidgets": {},
     "nuid": "dd393b10-abe8-45c4-9f24-c3c507499be1",
     "showTitle": false,
     "tableResultSettingsMap": {},
     "title": ""
    }
   },
   "outputs": [],
   "source": [
    "%sql\n",
    "-- select ai_query(\"databricks-gpt-oss-120b\",\"\");\n",
    "\n",
    "select REVIEW_TEXT,\n",
    "  ai_query(\n",
    "    endpoint => \"databricks-gpt-oss-120b\",\n",
    "    request => \"Given a review for a product, classify it based on the following categories and provide reason :\\n\" ||\n",
    "    \"1. Product Quality (durability, build, performance)\\n\" ||\n",
    "    \"2. Design & Aesthetics (looks, style, size, material)\\n\" ||\n",
    "    \"3. Ease of Use (controls, learning curve, user-friendliness)\\n\" ||\n",
    "    \"4. Functionality (toast evenness, slot size, special features like bagel mode)\\n\" ||\n",
    "    \"5. Reliability / Issues (breakdowns, defects, longevity concerns)\\n\" ||\n",
    "    \"6. Customer Service (experience with support, warranty, replacements)\\n\" ||\n",
    "    \"7. Value for Money (price vs. performance perception)\\n\" ||\n",
    "    \"Review: \" || REVIEW_TEXT,\n",
    "    modelParameters => named_struct('max_tokens', 100, 'temperature', 0.3),\n",
    "    responseFormat =>  \"struct<classification:struct<category:array<string>, reason:array<string>>>\",\n",
    "    failOnError => false\n",
    "    \n",
    "  ) as curated_classification\n",
    "from bright_data_amazon_best_seller_products_reviews_products_dataset.datasets.amazon_reviews\n",
    "where ASIN='B091SQRKVG'"
   ]
  },
  {
   "cell_type": "code",
   "execution_count": 0,
   "metadata": {
    "application/vnd.databricks.v1+cell": {
     "cellMetadata": {
      "byteLimit": 2048000,
      "implicitDf": true,
      "rowLimit": 10000
     },
     "inputWidgets": {},
     "nuid": "63f1ac86-56a9-474d-bc2b-8e3c86ffe3e8",
     "showTitle": false,
     "tableResultSettingsMap": {
      "0": {
       "dataGridStateBlob": "{\"version\":1,\"tableState\":{\"columnPinning\":{\"left\":[\"#row_number#\"],\"right\":[]},\"columnSizing\":{},\"columnVisibility\":{}},\"settings\":{\"columns\":{}},\"syncTimestamp\":1759391618414}",
       "filterBlob": null,
       "queryPlanFiltersBlob": null,
       "tableResultIndex": 0
      }
     },
     "title": ""
    }
   },
   "outputs": [],
   "source": [
    "%sql\n",
    "select REVIEW_TEXT,\n",
    "  parse_json(ai_query(\n",
    "    endpoint => \"databricks-meta-llama-3-1-8b-instruct\",-- \"databricks-gpt-oss-120b\",\n",
    "    request => \"Given a review for a product, classify it based on the following categories and provide reason for classifying in that category :\\n\" ||\n",
    "    \"1. Product Quality (durability, build, performance)\\n\" ||\n",
    "    \"2. Design & Aesthetics (looks, style, size, material)\\n\" ||\n",
    "    \"3. Ease of Use (controls, learning curve, user-friendliness)\\n\" ||\n",
    "    \"4. Functionality (toast evenness, slot size, special features like bagel mode)\\n\" ||\n",
    "    \"5. Reliability / Issues (breakdowns, defects, longevity concerns)\\n\" ||\n",
    "    \"6. Customer Service (experience with support, warranty, replacements)\\n\" ||\n",
    "    \"7. Value for Money (price vs. performance perception)\\n\" ||\n",
    "    \"return NA if none of the category it can be bucketted\"\n",
    "    \"Review: \" || REVIEW_TEXT,\n",
    "    modelParameters => named_struct('temperature', 0.3),\n",
    "    responseFormat =>\"struct<classification:struct<category:array<string>, reason:array<string>>>\",\n",
    "    failOnError => true\n",
    "  ))  as classification\n",
    "from bright_data_amazon_best_seller_products_reviews_products_dataset.datasets.amazon_reviews\n",
    "where ASIN='B091SQRKVG'"
   ]
  },
  {
   "cell_type": "markdown",
   "metadata": {
    "application/vnd.databricks.v1+cell": {
     "cellMetadata": {},
     "inputWidgets": {},
     "nuid": "6aba671e-13d5-4bfe-966c-b57da3f197be",
     "showTitle": false,
     "tableResultSettingsMap": {},
     "title": ""
    }
   },
   "source": [
    "#Other AI Functions"
   ]
  },
  {
   "cell_type": "code",
   "execution_count": 0,
   "metadata": {
    "application/vnd.databricks.v1+cell": {
     "cellMetadata": {
      "byteLimit": 2048000,
      "implicitDf": true,
      "rowLimit": 10000
     },
     "inputWidgets": {},
     "nuid": "47566dee-79c1-4294-ad64-7e6d3b0ce8b9",
     "showTitle": false,
     "tableResultSettingsMap": {
      "0": {
       "dataGridStateBlob": "{\"version\":1,\"tableState\":{\"columnPinning\":{\"left\":[\"#row_number#\"],\"right\":[]},\"columnSizing\":{},\"columnVisibility\":{}},\"settings\":{\"columns\":{}},\"syncTimestamp\":1759552410457}",
       "filterBlob": null,
       "queryPlanFiltersBlob": null,
       "tableResultIndex": 0
      }
     },
     "title": ""
    }
   },
   "outputs": [],
   "source": [
    "%sql\n",
    " SELECT ai_mask(\n",
    "    'John Doe lives in New York. His email is john.doe@example.com.id: 1234567891011121314',\n",
    "    array('person', 'email','aadhar'))"
   ]
  },
  {
   "cell_type": "code",
   "execution_count": 0,
   "metadata": {
    "application/vnd.databricks.v1+cell": {
     "cellMetadata": {
      "byteLimit": 2048000,
      "rowLimit": 10000
     },
     "inputWidgets": {},
     "nuid": "60b9212e-8900-4035-a1e0-b253dbe50fd3",
     "showTitle": false,
     "tableResultSettingsMap": {},
     "title": ""
    }
   },
   "outputs": [],
   "source": [
    "df=spark.read.format(\"binaryFile\").load(\"/Volumes/workspace/llm_rag/llm_docs/ai_parse_document.pdf\")"
   ]
  },
  {
   "cell_type": "code",
   "execution_count": 0,
   "metadata": {
    "application/vnd.databricks.v1+cell": {
     "cellMetadata": {
      "byteLimit": 2048000,
      "rowLimit": 10000
     },
     "inputWidgets": {},
     "nuid": "928b2876-ed23-47d5-ad6b-0c892d75a6b7",
     "showTitle": false,
     "tableResultSettingsMap": {},
     "title": ""
    }
   },
   "outputs": [],
   "source": [
    "df.display()"
   ]
  },
  {
   "cell_type": "code",
   "execution_count": 0,
   "metadata": {
    "application/vnd.databricks.v1+cell": {
     "cellMetadata": {
      "byteLimit": 2048000,
      "rowLimit": 10000
     },
     "inputWidgets": {},
     "nuid": "6c616ceb-0440-404e-bf6e-c91958cb4c87",
     "showTitle": false,
     "tableResultSettingsMap": {},
     "title": ""
    }
   },
   "outputs": [],
   "source": [
    "df.selectExpr('ai_parse_document(content, map(\"version\", \"2.0\")) as extract').write.saveAsTable(\"workspace.llm_rag.parse_doc_opt\")"
   ]
  },
  {
   "cell_type": "code",
   "execution_count": 0,
   "metadata": {
    "application/vnd.databricks.v1+cell": {
     "cellMetadata": {
      "byteLimit": 2048000,
      "implicitDf": true,
      "rowLimit": 10000
     },
     "inputWidgets": {},
     "nuid": "69d1194b-8835-4337-8099-280a338d3006",
     "showTitle": false,
     "tableResultSettingsMap": {
      "0": {
       "dataGridStateBlob": "{\"version\":1,\"tableState\":{\"columnPinning\":{\"left\":[\"#row_number#\"],\"right\":[]},\"columnSizing\":{},\"columnVisibility\":{}},\"settings\":{\"columns\":{}},\"syncTimestamp\":1759488487132}",
       "filterBlob": null,
       "queryPlanFiltersBlob": null,
       "tableResultIndex": 0
      }
     },
     "title": ""
    }
   },
   "outputs": [],
   "source": [
    "%sql\n",
    "select schema_of_variant(extract),extract from workspace.llm_rag.parse_doc_opt"
   ]
  },
  {
   "cell_type": "code",
   "execution_count": 0,
   "metadata": {
    "application/vnd.databricks.v1+cell": {
     "cellMetadata": {
      "byteLimit": 2048000,
      "rowLimit": 10000
     },
     "inputWidgets": {},
     "nuid": "83acfb77-291d-4689-9e2a-e36e71cc4e99",
     "showTitle": false,
     "tableResultSettingsMap": {},
     "title": ""
    }
   },
   "outputs": [],
   "source": [
    "%sql\n",
    "select * from workspace.llm_rag.parse_doc_opt"
   ]
  },
  {
   "cell_type": "code",
   "execution_count": 0,
   "metadata": {
    "application/vnd.databricks.v1+cell": {
     "cellMetadata": {
      "byteLimit": 2048000,
      "implicitDf": true,
      "rowLimit": 10000
     },
     "inputWidgets": {},
     "nuid": "13165a47-514c-4650-b591-593f2880e7e2",
     "showTitle": false,
     "tableResultSettingsMap": {
      "0": {
       "dataGridStateBlob": "{\"version\":1,\"tableState\":{\"columnPinning\":{\"left\":[\"#row_number#\"],\"right\":[]},\"columnSizing\":{},\"columnVisibility\":{}},\"settings\":{\"columns\":{}},\"syncTimestamp\":1759488640700}",
       "filterBlob": null,
       "queryPlanFiltersBlob": null,
       "tableResultIndex": 0
      }
     },
     "title": ""
    }
   },
   "outputs": [],
   "source": [
    "%sql\n",
    "select * from (\n",
    "select value:type::string,value:content::string\n",
    "from workspace.llm_rag.parse_doc_opt,\n",
    "lateral variant_explode(extract:document.elements)) where type=\"text\""
   ]
  },
  {
   "cell_type": "code",
   "execution_count": 0,
   "metadata": {
    "application/vnd.databricks.v1+cell": {
     "cellMetadata": {
      "byteLimit": 2048000,
      "rowLimit": 10000
     },
     "inputWidgets": {},
     "nuid": "140af675-cf3d-4134-a19d-fd450b249577",
     "showTitle": false,
     "tableResultSettingsMap": {},
     "title": ""
    }
   },
   "outputs": [],
   "source": [
    "%sql\n",
    "select * from (\n",
    "select value:type::string,value:content::string\n",
    "from workspace.llm_rag.parse_doc_opt,\n",
    "lateral variant_explode(extract:document.elements)) where type!=\"text\""
   ]
  },
  {
   "cell_type": "code",
   "execution_count": 0,
   "metadata": {
    "application/vnd.databricks.v1+cell": {
     "cellMetadata": {},
     "inputWidgets": {},
     "nuid": "33367d0d-56c6-421f-b558-4fa47579f1c8",
     "showTitle": false,
     "tableResultSettingsMap": {},
     "title": ""
    }
   },
   "outputs": [],
   "source": [
    "%sql\n"
   ]
  }
 ],
 "metadata": {
  "application/vnd.databricks.v1+notebook": {
   "computePreferences": null,
   "dashboards": [],
   "environmentMetadata": {
    "base_environment": "",
    "environment_version": "3"
   },
   "inputWidgetPreferences": null,
   "language": "python",
   "notebookMetadata": {
    "mostRecentlyExecutedCommandWithImplicitDF": {
     "commandId": -1,
     "dataframes": [
      "_sqldf"
     ]
    },
    "pythonIndentUnit": 4
   },
   "notebookName": "LLM AI Function",
   "widgets": {}
  },
  "language_info": {
   "name": "python"
  }
 },
 "nbformat": 4,
 "nbformat_minor": 0
}
