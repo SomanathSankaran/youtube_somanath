{
 "cells": [
  {
   "cell_type": "markdown",
   "metadata": {
    "application/vnd.databricks.v1+cell": {
     "cellMetadata": {},
     "inputWidgets": {},
     "nuid": "61bd7e1b-0b5b-47a3-bf8e-0f2c12b22915",
     "showTitle": false,
     "tableResultSettingsMap": {},
     "title": ""
    }
   },
   "source": [
    "\n",
    "## Retrieval Augmented Generation (RAG) with Vector Search for Data Engineers\n",
    "\n",
    "RAG is a technique that enhances Large Language Models (LLMs) by retrieving relevant data from external sources before generating a response. For data engineers, RAG can be used to answer complex queries using up-to-date information from your data lake or warehouse.\n",
    "\n",
    "**How RAG with Vector Search Works:**\n",
    "1. **Retrieval:** The user's query is converted into a vector using an embedding model. This vector is used to search a vector database (e.g., FAISS, Databricks Vector Search) containing embeddings of your documents, tables, or records.\n",
    "2. **Augmentation:** The most relevant data chunks retrieved are combined with the user's query to create a prompt for the LLM.\n",
    "3. **Generation:** The LLM uses this augmented prompt to generate a precise, context-aware answer.\n",
    "\n",
    "**Benefits for Data Engineers:**\n",
    "- Access proprietary and structured data (e.g., transaction logs, customer records) not in the LLM's training set.\n",
    "- Provide up-to-date answers using the latest data.\n",
    "- Enable source citation and data governance.\n",
    "\n",
    "**Example Workflow:**\n",
    "- Ingest documents or tables into a vector store.\n",
    "- Use semantic search to retrieve relevant chunks for a user query.\n",
    "- Pass retrieved data to the LLM for response generation.\n",
    "\n",
    "RAG with vector search empowers data engineers to build intelligent, data-driven applications on Databricks."
   ]
  },
  {
   "cell_type": "markdown",
   "metadata": {
    "application/vnd.databricks.v1+cell": {
     "cellMetadata": {
      "byteLimit": 2048000,
      "rowLimit": 10000
     },
     "inputWidgets": {},
     "nuid": "213003ca-bb9f-45e9-8fe1-66c04a14814e",
     "showTitle": false,
     "tableResultSettingsMap": {},
     "title": ""
    }
   },
   "source": [
    "![rag](/Workspace/Users/somanathsankaran@gmail.com/llm-101/RAG_FLOW.png)"
   ]
  },
  {
   "cell_type": "markdown",
   "metadata": {
    "application/vnd.databricks.v1+cell": {
     "cellMetadata": {},
     "inputWidgets": {},
     "nuid": "51c00460-2dfa-423e-b87b-c48a79a3f2d0",
     "showTitle": false,
     "tableResultSettingsMap": {},
     "title": ""
    }
   },
   "source": [
    "# creating summary using AI_Summary"
   ]
  },
  {
   "cell_type": "code",
   "execution_count": 0,
   "metadata": {
    "application/vnd.databricks.v1+cell": {
     "cellMetadata": {
      "byteLimit": 2048000,
      "implicitDf": true,
      "rowLimit": 10000
     },
     "inputWidgets": {},
     "nuid": "cd885eb2-17b1-4cbd-98a1-7962a4a450bf",
     "showTitle": false,
     "tableResultSettingsMap": {},
     "title": ""
    }
   },
   "outputs": [],
   "source": [
    "%sql\n",
    "create table workspace.llm_rag.rag_input_summary as \n",
    "select *,ai_summarize(content\n",
    "    ,100\n",
    "  ) as extended_summary  from databricks_databricks_documentation_dataset.v01.docs "
   ]
  },
  {
   "cell_type": "code",
   "execution_count": 0,
   "metadata": {
    "application/vnd.databricks.v1+cell": {
     "cellMetadata": {
      "byteLimit": 2048000,
      "implicitDf": true,
      "rowLimit": 10000
     },
     "inputWidgets": {},
     "nuid": "b3780bc1-421d-499a-b1c1-d0ef509f958a",
     "showTitle": false,
     "tableResultSettingsMap": {},
     "title": ""
    }
   },
   "outputs": [],
   "source": [
    " %sql\n",
    " select * from workspace.llm_rag.rag_input_summary"
   ]
  },
  {
   "cell_type": "markdown",
   "metadata": {
    "application/vnd.databricks.v1+cell": {
     "cellMetadata": {},
     "inputWidgets": {},
     "nuid": "5413b9eb-30ea-41db-8596-a758737e5bd8",
     "showTitle": false,
     "tableResultSettingsMap": {},
     "title": ""
    }
   },
   "source": [
    "# ENABLING CDF"
   ]
  },
  {
   "cell_type": "code",
   "execution_count": 0,
   "metadata": {
    "application/vnd.databricks.v1+cell": {
     "cellMetadata": {
      "byteLimit": 2048000,
      "implicitDf": true,
      "rowLimit": 10000
     },
     "inputWidgets": {},
     "nuid": "fded835b-1b6b-4613-8a9a-6bab27862bf9",
     "showTitle": false,
     "tableResultSettingsMap": {},
     "title": ""
    }
   },
   "outputs": [],
   "source": [
    "%sql\n",
    "ALTER TABLE workspace.llm_rag.rag_input_summary SET TBLPROPERTIES (delta.enableChangeDataFeed = true)"
   ]
  },
  {
   "cell_type": "code",
   "execution_count": 0,
   "metadata": {
    "application/vnd.databricks.v1+cell": {
     "cellMetadata": {
      "byteLimit": 2048000,
      "implicitDf": true,
      "rowLimit": 10000
     },
     "inputWidgets": {},
     "nuid": "c33cc9ab-84cb-4278-aaca-9c0221feafe6",
     "showTitle": false,
     "tableResultSettingsMap": {},
     "title": ""
    }
   },
   "outputs": [],
   "source": [
    "%sql\n",
    "select count(*) from  workspace.llm_rag.rag_input_summary"
   ]
  },
  {
   "cell_type": "code",
   "execution_count": 0,
   "metadata": {
    "application/vnd.databricks.v1+cell": {
     "cellMetadata": {
      "byteLimit": 2048000,
      "implicitDf": true,
      "rowLimit": 10000
     },
     "inputWidgets": {},
     "nuid": "68062434-c8c1-4a3a-bfe9-9a8ea160cd80",
     "showTitle": false,
     "tableResultSettingsMap": {},
     "title": ""
    }
   },
   "outputs": [],
   "source": [
    "%sql\n",
    "insert into workspace.llm_rag.rag_input_summary select * from workspace.llm_rag.rag_input_summary@v1"
   ]
  },
  {
   "cell_type": "code",
   "execution_count": 0,
   "metadata": {
    "application/vnd.databricks.v1+cell": {
     "cellMetadata": {},
     "inputWidgets": {},
     "nuid": "9572885d-9e21-489d-beb0-df9c0f190302",
     "showTitle": false,
     "tableResultSettingsMap": {},
     "title": ""
    }
   },
   "outputs": [],
   "source": []
  }
 ],
 "metadata": {
  "application/vnd.databricks.v1+notebook": {
   "computePreferences": null,
   "dashboards": [],
   "environmentMetadata": {
    "base_environment": "",
    "environment_version": "3"
   },
   "inputWidgetPreferences": null,
   "language": "python",
   "notebookMetadata": {
    "mostRecentlyExecutedCommandWithImplicitDF": {
     "commandId": 4824895311010216,
     "dataframes": [
      "_sqldf"
     ]
    },
    "pythonIndentUnit": 4
   },
   "notebookName": "RAG Setup",
   "widgets": {}
  },
  "language_info": {
   "name": "python"
  }
 },
 "nbformat": 4,
 "nbformat_minor": 0
}
