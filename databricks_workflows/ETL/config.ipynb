{
 "cells": [
  {
   "cell_type": "code",
   "execution_count": 0,
   "metadata": {
    "application/vnd.databricks.v1+cell": {
     "cellMetadata": {
      "byteLimit": 2048000,
      "implicitDf": true,
      "rowLimit": 10000
     },
     "inputWidgets": {},
     "nuid": "d2b78b14-455b-4964-b7f3-b02a597db262",
     "showTitle": false,
     "tableResultSettingsMap": {},
     "title": ""
    }
   },
   "outputs": [],
   "source": [
    "%sql\n",
    "create schema workflow_meta"
   ]
  },
  {
   "cell_type": "code",
   "execution_count": 0,
   "metadata": {
    "application/vnd.databricks.v1+cell": {
     "cellMetadata": {
      "byteLimit": 2048000,
      "implicitDf": true,
      "rowLimit": 10000
     },
     "inputWidgets": {},
     "nuid": "0f3dfbb3-18b4-48ac-a94e-4725b41bacaa",
     "showTitle": false,
     "tableResultSettingsMap": {},
     "title": ""
    }
   },
   "outputs": [],
   "source": [
    "%sql\n",
    "CREATE or REPLACE TABLE  workflow_meta.config_table (\n",
    "    usecase_id STRING COMMENT 'Identifier for the use case (supports multiple use cases)',\n",
    "    src_catalog STRING COMMENT 'Source catalog name',\n",
    "    src_schema STRING COMMENT 'Source schema name',\n",
    "    src_table STRING COMMENT 'Source table name',\n",
    "    target_catalog STRING COMMENT 'Target catalog name',\n",
    "    target_schema STRING COMMENT 'Target schema name',\n",
    "    target_table STRING COMMENT 'Target table name',\n",
    "    priority INT COMMENT 'Priority of the configuration row',\n",
    "    is_active_flag INT COMMENT 'Active flag to temporary stop ingestion'\n",
    ")\n",
    "COMMENT 'Configuration table mapping source and target tables for multiple use cases, with priority';"
   ]
  },
  {
   "cell_type": "code",
   "execution_count": 0,
   "metadata": {
    "application/vnd.databricks.v1+cell": {
     "cellMetadata": {
      "byteLimit": 2048000,
      "implicitDf": true,
      "rowLimit": 10000
     },
     "inputWidgets": {},
     "nuid": "a6e55425-bec5-4cc8-9052-786d6c7219b5",
     "showTitle": false,
     "tableResultSettingsMap": {},
     "title": ""
    }
   },
   "outputs": [],
   "source": [
    "%sql\n",
    "show  tables in samples.tpch"
   ]
  },
  {
   "cell_type": "code",
   "execution_count": 0,
   "metadata": {
    "application/vnd.databricks.v1+cell": {
     "cellMetadata": {
      "byteLimit": 2048000,
      "implicitDf": true,
      "rowLimit": 10000
     },
     "inputWidgets": {},
     "nuid": "c6c28c1c-66f9-4a46-a125-f28301f2c80f",
     "showTitle": false,
     "tableResultSettingsMap": {},
     "title": ""
    }
   },
   "outputs": [],
   "source": [
    "%sql\n",
    "create schema bronze_sales;"
   ]
  },
  {
   "cell_type": "markdown",
   "metadata": {
    "application/vnd.databricks.v1+cell": {
     "cellMetadata": {
      "byteLimit": 2048000,
      "rowLimit": 10000
     },
     "inputWidgets": {},
     "nuid": "be78ce94-10c2-4e7a-82f5-312d3395340e",
     "showTitle": false,
     "tableResultSettingsMap": {},
     "title": ""
    }
   },
   "source": [
    "# Insert configuration for Usecase_1"
   ]
  },
  {
   "cell_type": "code",
   "execution_count": 0,
   "metadata": {
    "application/vnd.databricks.v1+cell": {
     "cellMetadata": {
      "byteLimit": 2048000,
      "implicitDf": true,
      "rowLimit": 10000
     },
     "inputWidgets": {},
     "nuid": "523d59c8-337c-4581-80f5-da9b9bddcd4b",
     "showTitle": false,
     "tableResultSettingsMap": {},
     "title": ""
    }
   },
   "outputs": [],
   "source": [
    "%sql\n",
    "INSERT INTO workflow_meta.config_table (\n",
    "    usecase_id,\n",
    "    src_catalog,\n",
    "    src_schema,\n",
    "    src_table,\n",
    "    target_catalog,\n",
    "    target_schema,\n",
    "    target_table,\n",
    "    priority,\n",
    "    is_active_flag\n",
    ")\n",
    "VALUES\n",
    "    ('usecase_1', 'samples', 'tpch', 'customer', 'workspace', 'bronze_sales', 'customer', 1, 1),\n",
    "    ('usecase_1', 'samples', 'tpch', 'nation', 'workspace', 'bronze_sales', 'nation', 1, 1),\n",
    "    ('usecase_1', 'samples', 'tpch', 'orders', 'workspace', 'bronze_sales', 'orders', 1, 1),\n",
    "    ('usecase_1', 'samples', 'tpch', 'part', 'workspace', 'bronze_sales', 'part', 1, 1),\n",
    "    ('usecase_1', 'samples', 'tpch', 'partsupp', 'workspace', 'bronze_sales', 'partsupp', 1, 1),\n",
    "    ('usecase_1', 'samples', 'tpch', 'region', 'workspace', 'bronze_sales', 'region', 1, 1),\n",
    "    ('usecase_1', 'samples', 'tpch', 'supplier', 'workspace', 'bronze_sales', 'supplier', 1, 1),\n",
    "     ('usecase_1', 'samples', 'tpch', 'lineitem', 'workspace', 'bronze_sales', 'lineitem', 2, 1);"
   ]
  },
  {
   "cell_type": "code",
   "execution_count": 0,
   "metadata": {
    "application/vnd.databricks.v1+cell": {
     "cellMetadata": {
      "byteLimit": 2048000,
      "implicitDf": true,
      "rowLimit": 10000
     },
     "inputWidgets": {},
     "nuid": "a1dd39d7-0a2d-4a5e-b647-0c959e9bffdc",
     "showTitle": false,
     "tableResultSettingsMap": {},
     "title": ""
    }
   },
   "outputs": [],
   "source": [
    "%sql\n",
    "select * from workflow_meta.config_table"
   ]
  },
  {
   "cell_type": "code",
   "execution_count": 0,
   "metadata": {
    "application/vnd.databricks.v1+cell": {
     "cellMetadata": {
      "byteLimit": 2048000,
      "implicitDf": true,
      "rowLimit": 10000
     },
     "inputWidgets": {},
     "nuid": "e4fc1a60-6d35-4168-8d5d-8ab83c10171f",
     "showTitle": false,
     "tableResultSettingsMap": {},
     "title": ""
    }
   },
   "outputs": [],
   "source": [
    "%sql\n",
    "CREATE OR REPLACE TABLE  workflow_meta.audit_table (\n",
    "    usecase_id STRING COMMENT 'Identifier for the use case',\n",
    "    job_run_url STRING COMMENT 'URL to the Databricks job run',\n",
    "    workspaceid STRING COMMENT 'Databricks workspace ID',\n",
    "    trigger_time TIMESTAMP COMMENT 'Time when the job was triggered',\n",
    "    start_time TIMESTAMP COMMENT 'Time when the job started',\n",
    "    total_time DOUBLE COMMENT 'Total execution time in seconds',\n",
    "    waiting_time_in_ms DOUBLE COMMENT 'Time in milliseconds the job spent waiting for cluster',\n",
    "    status STRING COMMENT 'Status of the job run (e.g., SUCCESS, FAILED)',\n",
    "    ingested_timestamp TIMESTAMP COMMENT 'Timestamp when the record was ingested into the table',\n",
    "    ingested_by STRING COMMENT 'User who ingested the record'\n",
    ")\n",
    "COMMENT 'Audit table for tracking job runs and use case executions';"
   ]
  },
  {
   "cell_type": "code",
   "execution_count": 0,
   "metadata": {
    "application/vnd.databricks.v1+cell": {
     "cellMetadata": {},
     "inputWidgets": {},
     "nuid": "c11e1e83-e125-4aea-a9e9-d010a895225f",
     "showTitle": false,
     "tableResultSettingsMap": {},
     "title": ""
    }
   },
   "outputs": [],
   "source": []
  }
 ],
 "metadata": {
  "application/vnd.databricks.v1+notebook": {
   "computePreferences": null,
   "dashboards": [],
   "environmentMetadata": {
    "base_environment": "",
    "environment_version": "3"
   },
   "inputWidgetPreferences": null,
   "language": "python",
   "notebookMetadata": {
    "mostRecentlyExecutedCommandWithImplicitDF": {
     "commandId": 6874965208540112,
     "dataframes": [
      "_sqldf"
     ]
    },
    "pythonIndentUnit": 4
   },
   "notebookName": "config",
   "widgets": {}
  },
  "language_info": {
   "name": "python"
  }
 },
 "nbformat": 4,
 "nbformat_minor": 0
}
