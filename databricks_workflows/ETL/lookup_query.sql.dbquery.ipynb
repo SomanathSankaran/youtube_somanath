{
 "cells": [
  {
   "cell_type": "code",
   "execution_count": 0,
   "metadata": {
    "application/vnd.databricks.v1+cell": {
     "cellMetadata": {
      "byteLimit": 10485760,
      "rowLimit": 1000
     },
     "inputWidgets": {},
     "nuid": "15cf79e6-e7a4-4792-9355-67126097b8de",
     "showTitle": false,
     "tableResultSettingsMap": {},
     "title": ""
    }
   },
   "outputs": [],
   "source": [
    "select usecase_id,concat_ws(\".\",src_catalog,src_schema,src_table) as src_table, concat_ws(\".\",target_catalog,target_schema,target_table) as tgt_table, priority, is_active_flag from workflow_meta.config_table where usecase_id = 'usecase_1' and is_active_flag = 1 order by priority;"
   ]
  }
 ],
 "metadata": {
  "application/vnd.databricks.v1+notebook": {
   "computePreferences": null,
   "dashboards": [],
   "environmentMetadata": null,
   "inputWidgetPreferences": null,
   "language": "sql",
   "notebookMetadata": {
    "pythonIndentUnit": 4,
    "sqlQueryOptions": {
     "applyAutoLimit": true,
     "catalog": "workspace",
     "schema": "default"
    }
   },
   "notebookName": "lookup_query.sql.dbquery.ipynb",
   "widgets": {}
  },
  "language_info": {
   "name": "sql"
  }
 },
 "nbformat": 4,
 "nbformat_minor": 0
}
